{
 "cells": [
  {
   "cell_type": "code",
   "execution_count": 1,
   "id": "ad38f7f6-0e36-483a-b4b9-b106f9cfdced",
   "metadata": {},
   "outputs": [],
   "source": [
    "import requests\n",
    "import pandas as pd\n",
    "import polars as pl\n",
    "import duckdb\n",
    "\n",
    "from hashlib import md5\n",
    "from pathlib import Path"
   ]
  },
  {
   "cell_type": "code",
   "execution_count": 2,
   "id": "ef8a6e19-5f2b-4033-9a89-d0a10155a9ba",
   "metadata": {},
   "outputs": [],
   "source": [
    "url_usr = \"https://raw.githubusercontent.com/danielmiessler/SecLists/refs/heads/master/Usernames/Names/names.txt\"\n",
    "url_pwd = \"https://raw.githubusercontent.com/danielmiessler/SecLists/refs/heads/master/Passwords/500-worst-passwords.txt\""
   ]
  },
  {
   "cell_type": "code",
   "execution_count": 3,
   "id": "257179c6-950c-4efb-82ff-d9f579d94c9f",
   "metadata": {},
   "outputs": [],
   "source": [
    "resp_usr = requests.get(url_usr)\n",
    "resp_pwd = requests.get(url_pwd)"
   ]
  },
  {
   "cell_type": "code",
   "execution_count": 4,
   "id": "34b829d6-96ab-4ecb-9483-42e8aa248b51",
   "metadata": {},
   "outputs": [],
   "source": [
    "for resp in (resp_usr, resp_pwd):\n",
    "    assert resp.status_code == 200"
   ]
  },
  {
   "cell_type": "code",
   "execution_count": 5,
   "id": "f1f07d87-387b-4fc3-9451-bdbecd1d198f",
   "metadata": {},
   "outputs": [],
   "source": [
    "with open(\"data.csv\", mode=\"w\", encoding=\"utf-8\") as f:\n",
    "    f.write(\"usr,pwd\\n\")  # Write the header row\n",
    "    for usr in filter(None, map(lambda b: b.decode(\"utf-8\").strip(), resp_usr.content.split(b\"\\n\"))):\n",
    "        for pwd in filter(None, map(lambda b: b.decode(\"utf-8\").strip(), resp_pwd.content.split(b\"\\n\"))):\n",
    "            f.write(f\"{usr},{pwd}\\n\")\n"
   ]
  },
  {
   "cell_type": "code",
   "execution_count": 6,
   "id": "563d6a9f-ae31-47b2-832b-27bdb0201f3c",
   "metadata": {},
   "outputs": [],
   "source": [
    "path = Path().cwd() / \"data.csv\"\n",
    "assert path.exists()"
   ]
  },
  {
   "cell_type": "code",
   "execution_count": null,
   "id": "cd51bb59-40dc-4d53-8433-6ce58894ec53",
   "metadata": {},
   "outputs": [],
   "source": []
  },
  {
   "cell_type": "code",
   "execution_count": 7,
   "id": "7ec87515-e283-4348-9c78-8c081d12eccd",
   "metadata": {},
   "outputs": [
    {
     "name": "stdout",
     "output_type": "stream",
     "text": [
      "CPU times: user 299 ms, sys: 38.3 ms, total: 337 ms\n",
      "Wall time: 105 ms\n"
     ]
    },
    {
     "data": {
      "text/plain": [
       "Schema([('usr', String), ('pwd', String)])"
      ]
     },
     "execution_count": 7,
     "metadata": {},
     "output_type": "execute_result"
    }
   ],
   "source": [
    "%%time\n",
    "pl_dataframe = pl.read_csv(path)#.drop_nans()\n",
    "pl_dataframe.schema"
   ]
  },
  {
   "cell_type": "code",
   "execution_count": 8,
   "id": "a8e3cd31-8e96-47eb-a09d-f390a8ce2ac3",
   "metadata": {},
   "outputs": [
    {
     "name": "stdout",
     "output_type": "stream",
     "text": [
      "CPU times: user 475 μs, sys: 1.16 ms, total: 1.63 ms\n",
      "Wall time: 3.45 ms\n"
     ]
    }
   ],
   "source": [
    "%%time\n",
    "pl_lazyframe = pl.scan_csv(path)#.drop_nans()"
   ]
  },
  {
   "cell_type": "code",
   "execution_count": 9,
   "id": "362e628e-47c2-4d3f-a884-a2e6f1eb4531",
   "metadata": {},
   "outputs": [
    {
     "name": "stdout",
     "output_type": "stream",
     "text": [
      "CPU times: user 666 ms, sys: 65.4 ms, total: 731 ms\n",
      "Wall time: 745 ms\n"
     ]
    }
   ],
   "source": [
    "%%time\n",
    "pd_dataframe = pd.read_csv(path).dropna()"
   ]
  },
  {
   "cell_type": "code",
   "execution_count": 10,
   "id": "98367d01-6461-482b-96ce-b58c87dfba16",
   "metadata": {},
   "outputs": [],
   "source": [
    "def md5_hash(value: str) -> str:\n",
    "    return md5(value.encode()).hexdigest()"
   ]
  },
  {
   "cell_type": "code",
   "execution_count": 11,
   "id": "a2a9173d-88d8-4c0e-9a19-dabcf7f04413",
   "metadata": {},
   "outputs": [
    {
     "name": "stdout",
     "output_type": "stream",
     "text": [
      "CPU times: user 5.28 s, sys: 155 ms, total: 5.43 s\n",
      "Wall time: 5.46 s\n"
     ]
    }
   ],
   "source": [
    "%%time\n",
    "\n",
    "for col in [\"usr\", \"pwd\"]:\n",
    "    pd_dataframe[f\"{col}_md5\"] = pd_dataframe[col].apply(md5_hash)\n"
   ]
  },
  {
   "cell_type": "code",
   "execution_count": 12,
   "id": "428dd875-8aff-4160-abd0-cbcd4fc669df",
   "metadata": {},
   "outputs": [
    {
     "ename": "AttributeError",
     "evalue": "'Expr' object has no attribute 'map'",
     "output_type": "error",
     "traceback": [
      "\u001b[0;31m---------------------------------------------------------------------------\u001b[0m",
      "\u001b[0;31mAttributeError\u001b[0m                            Traceback (most recent call last)",
      "Cell \u001b[0;32mIn[12], line 2\u001b[0m\n\u001b[1;32m      1\u001b[0m pl_dataframe \u001b[38;5;241m=\u001b[39m pl_dataframe\u001b[38;5;241m.\u001b[39mwith_columns(\n\u001b[0;32m----> 2\u001b[0m      \u001b[43mpl\u001b[49m\u001b[38;5;241;43m.\u001b[39;49m\u001b[43mcol\u001b[49m\u001b[43m(\u001b[49m\u001b[38;5;124;43m\"\u001b[39;49m\u001b[38;5;124;43musr\u001b[39;49m\u001b[38;5;124;43m\"\u001b[39;49m\u001b[43m)\u001b[49m\u001b[38;5;241;43m.\u001b[39;49m\u001b[43mmap\u001b[49m(md5_hash)\u001b[38;5;241m.\u001b[39malias(\u001b[38;5;124m\"\u001b[39m\u001b[38;5;124musr_md5\u001b[39m\u001b[38;5;124m\"\u001b[39m)\n\u001b[1;32m      3\u001b[0m )\n",
      "\u001b[0;31mAttributeError\u001b[0m: 'Expr' object has no attribute 'map'"
     ]
    }
   ],
   "source": [
    "\n",
    "pl_dataframe = pl_dataframe.with_columns(\n",
    "     pl.col(\"usr\").map(md5_hash).alias(\"usr_md5\")\n",
    ")"
   ]
  },
  {
   "cell_type": "code",
   "execution_count": null,
   "id": "0a621623-0760-4303-a97c-9c69483ecc66",
   "metadata": {},
   "outputs": [
    {
     "data": {
      "text/html": [
       "<div><style>\n",
       ".dataframe > thead > tr,\n",
       ".dataframe > tbody > tr {\n",
       "  text-align: right;\n",
       "  white-space: pre-wrap;\n",
       "}\n",
       "</style>\n",
       "<small>shape: (5_078_323, 3)</small><table border=\"1\" class=\"dataframe\"><thead><tr><th>usr</th><th>pwd</th><th>usr_md5</th></tr><tr><td>str</td><td>str</td><td>str</td></tr></thead><tbody><tr><td>&quot;aaliyah&quot;</td><td>&quot;123456&quot;</td><td>&quot;aaliyah&quot;</td></tr><tr><td>&quot;aaliyah&quot;</td><td>&quot;password&quot;</td><td>&quot;aaliyah&quot;</td></tr><tr><td>&quot;aaliyah&quot;</td><td>&quot;12345678&quot;</td><td>&quot;aaliyah&quot;</td></tr><tr><td>&quot;aaliyah&quot;</td><td>&quot;1234&quot;</td><td>&quot;aaliyah&quot;</td></tr><tr><td>&quot;aaliyah&quot;</td><td>&quot;pussy&quot;</td><td>&quot;aaliyah&quot;</td></tr><tr><td>&hellip;</td><td>&hellip;</td><td>&hellip;</td></tr><tr><td>&quot;zylen&quot;</td><td>&quot;mistress&quot;</td><td>&quot;zylen&quot;</td></tr><tr><td>&quot;zylen&quot;</td><td>&quot;phantom&quot;</td><td>&quot;zylen&quot;</td></tr><tr><td>&quot;zylen&quot;</td><td>&quot;billy&quot;</td><td>&quot;zylen&quot;</td></tr><tr><td>&quot;zylen&quot;</td><td>&quot;6666&quot;</td><td>&quot;zylen&quot;</td></tr><tr><td>&quot;zylen&quot;</td><td>&quot;albert&quot;</td><td>&quot;zylen&quot;</td></tr></tbody></table></div>"
      ],
      "text/plain": [
       "shape: (5_078_323, 3)\n",
       "┌─────────┬──────────┬─────────┐\n",
       "│ usr     ┆ pwd      ┆ usr_md5 │\n",
       "│ ---     ┆ ---      ┆ ---     │\n",
       "│ str     ┆ str      ┆ str     │\n",
       "╞═════════╪══════════╪═════════╡\n",
       "│ aaliyah ┆ 123456   ┆ aaliyah │\n",
       "│ aaliyah ┆ password ┆ aaliyah │\n",
       "│ aaliyah ┆ 12345678 ┆ aaliyah │\n",
       "│ aaliyah ┆ 1234     ┆ aaliyah │\n",
       "│ aaliyah ┆ pussy    ┆ aaliyah │\n",
       "│ …       ┆ …        ┆ …       │\n",
       "│ zylen   ┆ mistress ┆ zylen   │\n",
       "│ zylen   ┆ phantom  ┆ zylen   │\n",
       "│ zylen   ┆ billy    ┆ zylen   │\n",
       "│ zylen   ┆ 6666     ┆ zylen   │\n",
       "│ zylen   ┆ albert   ┆ zylen   │\n",
       "└─────────┴──────────┴─────────┘"
      ]
     },
     "execution_count": 35,
     "metadata": {},
     "output_type": "execute_result"
    }
   ],
   "source": [
    "pl_dataframe"
   ]
  }
 ],
 "metadata": {
  "kernelspec": {
   "display_name": "dataScienceEnv",
   "language": "python",
   "name": "python3"
  },
  "language_info": {
   "codemirror_mode": {
    "name": "ipython",
    "version": 3
   },
   "file_extension": ".py",
   "mimetype": "text/x-python",
   "name": "python",
   "nbconvert_exporter": "python",
   "pygments_lexer": "ipython3",
   "version": "3.13.1"
  }
 },
 "nbformat": 4,
 "nbformat_minor": 5
}
