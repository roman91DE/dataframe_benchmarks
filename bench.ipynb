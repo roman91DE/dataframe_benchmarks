{
 "cells": [
  {
   "cell_type": "code",
   "execution_count": 75,
   "id": "ad38f7f6-0e36-483a-b4b9-b106f9cfdced",
   "metadata": {},
   "outputs": [],
   "source": [
    "import requests\n",
    "import pandas as pd\n",
    "import polars as pl\n",
    "import duckdb\n",
    "\n",
    "from duckdb.typing import VARCHAR\n",
    "from hashlib import md5\n",
    "from pathlib import Path"
   ]
  },
  {
   "cell_type": "code",
   "execution_count": 76,
   "id": "d50b7311",
   "metadata": {},
   "outputs": [
    {
     "name": "stdout",
     "output_type": "stream",
     "text": [
      "pandas version: 2.2.3 \n",
      "polars version: 1.16.0 \n",
      "duckdb version: 1.1.3\n"
     ]
    }
   ],
   "source": [
    "print(\n",
    "    f\"pandas version: {pd.__version__}\",\n",
    "    f\"\\npolars version: {pl.__version__}\",\n",
    "    f\"\\nduckdb version: {duckdb.__version__}\"\n",
    ")"
   ]
  },
  {
   "cell_type": "code",
   "execution_count": 77,
   "id": "ef8a6e19-5f2b-4033-9a89-d0a10155a9ba",
   "metadata": {},
   "outputs": [],
   "source": [
    "url_usr = \"https://raw.githubusercontent.com/danielmiessler/SecLists/refs/heads/master/Usernames/Names/names.txt\"\n",
    "url_pwd = \"https://raw.githubusercontent.com/danielmiessler/SecLists/refs/heads/master/Passwords/500-worst-passwords.txt\""
   ]
  },
  {
   "cell_type": "code",
   "execution_count": 78,
   "id": "257179c6-950c-4efb-82ff-d9f579d94c9f",
   "metadata": {},
   "outputs": [],
   "source": [
    "resp_usr = requests.get(url_usr)\n",
    "resp_pwd = requests.get(url_pwd)"
   ]
  },
  {
   "cell_type": "code",
   "execution_count": 79,
   "id": "34b829d6-96ab-4ecb-9483-42e8aa248b51",
   "metadata": {},
   "outputs": [],
   "source": [
    "for resp in (resp_usr, resp_pwd):\n",
    "    assert resp.status_code == 200"
   ]
  },
  {
   "cell_type": "code",
   "execution_count": 80,
   "id": "f1f07d87-387b-4fc3-9451-bdbecd1d198f",
   "metadata": {},
   "outputs": [],
   "source": [
    "path = Path().cwd() / \"data.csv\"\n",
    "if not path.exists():\n",
    "\n",
    "    with open(str(path), mode=\"w\", encoding=\"utf-8\") as f:\n",
    "        f.write(\"usr,pwd\\n\")  # Write the header row\n",
    "        for usr in filter(None, map(lambda b: b.decode(\"utf-8\").strip(), resp_usr.content.split(b\"\\n\"))):\n",
    "            for pwd in filter(None, map(lambda b: b.decode(\"utf-8\").strip(), resp_pwd.content.split(b\"\\n\"))):\n",
    "                f.write(f\"{usr},{pwd}\\n\")\n"
   ]
  },
  {
   "cell_type": "code",
   "execution_count": 81,
   "id": "98367d01-6461-482b-96ce-b58c87dfba16",
   "metadata": {},
   "outputs": [],
   "source": [
    "def md5_hash(value: str) -> str:\n",
    "    return md5(value.encode()).hexdigest()"
   ]
  },
  {
   "cell_type": "code",
   "execution_count": 82,
   "id": "7ec87515-e283-4348-9c78-8c081d12eccd",
   "metadata": {},
   "outputs": [
    {
     "name": "stdout",
     "output_type": "stream",
     "text": [
      "CPU times: user 6.81 s, sys: 729 ms, total: 7.54 s\n",
      "Wall time: 6.51 s\n"
     ]
    }
   ],
   "source": [
    "%%time\n",
    "\n",
    "pl_dataframe = pl.read_csv(path)\n",
    "\n",
    "pl_dataframe = pl_dataframe.with_columns(\n",
    "     (pl.col([\"usr\", \"pwd\"]).map_elements(md5_hash, return_dtype=pl.String).name.suffix(\"_md5\"))\n",
    ")\n",
    "\n",
    "pl_dataframe.write_csv(\"eager_polars.csv\")  \n"
   ]
  },
  {
   "cell_type": "code",
   "execution_count": 83,
   "id": "a8e3cd31-8e96-47eb-a09d-f390a8ce2ac3",
   "metadata": {},
   "outputs": [
    {
     "name": "stdout",
     "output_type": "stream",
     "text": [
      "CPU times: user 6.85 s, sys: 893 ms, total: 7.74 s\n",
      "Wall time: 6.55 s\n"
     ]
    }
   ],
   "source": [
    "%%time\n",
    "\n",
    "pl_lazyframe = pl.scan_csv(path)\n",
    "\n",
    "pl_lazyframe = pl_lazyframe.with_columns(\n",
    "     (pl.col([\"usr\", \"pwd\"]).map_elements(md5_hash, return_dtype=pl.String).name.suffix(\"_md5\"))\n",
    ")\n",
    "\n",
    "pl_lazyframe.collect().write_csv(\"lazy_polars.csv\")  "
   ]
  },
  {
   "cell_type": "code",
   "execution_count": 84,
   "id": "362e628e-47c2-4d3f-a884-a2e6f1eb4531",
   "metadata": {},
   "outputs": [
    {
     "name": "stdout",
     "output_type": "stream",
     "text": [
      "CPU times: user 11.9 s, sys: 775 ms, total: 12.7 s\n",
      "Wall time: 12.9 s\n"
     ]
    }
   ],
   "source": [
    "%%time\n",
    "\n",
    "pd_dataframe = pd.read_csv(path).dropna()\n",
    "\n",
    "for col in [\"usr\", \"pwd\"]:\n",
    "    pd_dataframe[f\"{col}_md5\"] = pd_dataframe[col].apply(md5_hash)\n",
    "\n",
    "pd_dataframe.to_csv(\"pandas.csv\", index=False)"
   ]
  },
  {
   "cell_type": "code",
   "execution_count": 86,
   "id": "b62aaa2d",
   "metadata": {},
   "outputs": [
    {
     "name": "stdout",
     "output_type": "stream",
     "text": [
      "CPU times: user 11.8 s, sys: 780 ms, total: 12.6 s\n",
      "Wall time: 10.9 s\n"
     ]
    }
   ],
   "source": [
    "%%time\n",
    "# Open DuckDB connection\n",
    "con = duckdb.connect()\n",
    "\n",
    "# Register the MD5 function with DuckDB, specifying input and return types\n",
    "con.create_function(\"md5_hash\", md5_hash, [VARCHAR], VARCHAR)\n",
    "\n",
    "# Read the CSV file, compute MD5 hashes, and write to a new CSV file\n",
    "con.execute(\"\"\"\n",
    "    COPY (\n",
    "        SELECT\n",
    "            usr,\n",
    "            pwd,\n",
    "            md5_hash(usr) AS usr_md5,\n",
    "            md5_hash(pwd) AS pwd_md5\n",
    "        FROM read_csv_auto('data.csv')\n",
    "    ) TO 'duckdb.csv' WITH (HEADER, DELIMITER ',');\n",
    "\"\"\")\n",
    "\n",
    "con.close()\n"
   ]
  }
 ],
 "metadata": {
  "kernelspec": {
   "display_name": "dataScienceEnv",
   "language": "python",
   "name": "python3"
  },
  "language_info": {
   "codemirror_mode": {
    "name": "ipython",
    "version": 3
   },
   "file_extension": ".py",
   "mimetype": "text/x-python",
   "name": "python",
   "nbconvert_exporter": "python",
   "pygments_lexer": "ipython3",
   "version": "3.13.1"
  }
 },
 "nbformat": 4,
 "nbformat_minor": 5
}
